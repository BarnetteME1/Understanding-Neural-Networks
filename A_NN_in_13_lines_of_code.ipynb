{
 "cells": [
  {
   "cell_type": "markdown",
   "metadata": {},
   "source": [
    "https://iamtrask.github.io/2015/07/27/python-network-part2/"
   ]
  },
  {
   "cell_type": "code",
   "execution_count": 1,
   "metadata": {
    "collapsed": true
   },
   "outputs": [],
   "source": [
    "import numpy as np"
   ]
  },
  {
   "cell_type": "code",
   "execution_count": 2,
   "metadata": {
    "collapsed": true
   },
   "outputs": [],
   "source": [
    "x = np.array([[0, 0, 1], [0, 1, 1], [1, 0, 1], [1, 1, 1]])"
   ]
  },
  {
   "cell_type": "code",
   "execution_count": 3,
   "metadata": {
    "collapsed": false
   },
   "outputs": [],
   "source": [
    "y = np.array([[0, 1, 1, 0]]).T"
   ]
  },
  {
   "cell_type": "code",
   "execution_count": 4,
   "metadata": {
    "collapsed": true
   },
   "outputs": [],
   "source": [
    "alpha, hidden_dim = (0.5, 50)"
   ]
  },
  {
   "cell_type": "code",
   "execution_count": 5,
   "metadata": {
    "collapsed": true
   },
   "outputs": [],
   "source": [
    "synapse_0 = 2 * np.random.random((3, hidden_dim)) - 1\n",
    "synapse_1 = 2 * np.random.random((hidden_dim, 1)) - 1"
   ]
  },
  {
   "cell_type": "code",
   "execution_count": 6,
   "metadata": {
    "collapsed": false
   },
   "outputs": [
    {
     "name": "stdout",
     "output_type": "stream",
     "text": [
      "[[ 0.07720543]\n",
      " [ 0.9200493 ]\n",
      " [ 0.92125029]\n",
      " [ 0.08175554]]\n"
     ]
    }
   ],
   "source": [
    "for j in range(60000):\n",
    "    layer_1 = 1/(1+np.exp(-(np.dot(x, synapse_0))))\n",
    "    layer_2 = 1/(1+np.exp(-(np.dot(layer_1, synapse_1))))\n",
    "    \n",
    "    layer_2_delta = (layer_2 - y) * (layer_2 * (1 - layer_2))\n",
    "    layer_1_delta = layer_2_delta.dot(synapse_1.T) * (layer_1 * 1-layer_1)\n",
    "    \n",
    "    synapse_1 -= (alpha * layer_1.T.dot(layer_2_delta))\n",
    "    synapse_0 -= (alpha * x.T.dot(layer_1_delta))\n",
    "print(layer_2)"
   ]
  },
  {
   "cell_type": "markdown",
   "metadata": {},
   "source": [
    "Changing the hidden dimension increases accuracy, to a point"
   ]
  },
  {
   "cell_type": "markdown",
   "metadata": {
    "collapsed": true
   },
   "source": [
    "### Layer Neural Networks"
   ]
  },
  {
   "cell_type": "code",
   "execution_count": 7,
   "metadata": {
    "collapsed": true
   },
   "outputs": [],
   "source": [
    "def sigmoid(x):\n",
    "    return 1/(1+np.exp(-x))"
   ]
  },
  {
   "cell_type": "code",
   "execution_count": 8,
   "metadata": {
    "collapsed": true
   },
   "outputs": [],
   "source": [
    "def sigmoid_output_to_derivative(output):\n",
    "    return output*(1-output)"
   ]
  },
  {
   "cell_type": "code",
   "execution_count": 9,
   "metadata": {
    "collapsed": true
   },
   "outputs": [],
   "source": [
    "x = np.array([[0, 1],\n",
    "              [0, 1],\n",
    "              [1, 0],\n",
    "              [1, 0]])"
   ]
  },
  {
   "cell_type": "code",
   "execution_count": 10,
   "metadata": {
    "collapsed": true
   },
   "outputs": [],
   "source": [
    "y = np.array([[0, 0, 1, 1]]).T"
   ]
  },
  {
   "cell_type": "code",
   "execution_count": 11,
   "metadata": {
    "collapsed": true
   },
   "outputs": [],
   "source": [
    "np.random.seed(1)"
   ]
  },
  {
   "cell_type": "code",
   "execution_count": 12,
   "metadata": {
    "collapsed": true
   },
   "outputs": [],
   "source": [
    "synapse_0 = 2*np.random.random((2, 1)) - 1"
   ]
  },
  {
   "cell_type": "code",
   "execution_count": 13,
   "metadata": {
    "collapsed": false
   },
   "outputs": [
    {
     "name": "stdout",
     "output_type": "stream",
     "text": [
      "Output After Training:\n",
      " [[ 0.00505119]\n",
      " [ 0.00505119]\n",
      " [ 0.99494905]\n",
      " [ 0.99494905]]\n"
     ]
    }
   ],
   "source": [
    "for iteration in range(10000):\n",
    "    layer_0 = x\n",
    "    layer_1 = sigmoid(np.dot(layer_0, synapse_0))\n",
    "    \n",
    "    layer_1_error = layer_1 - y\n",
    "    \n",
    "    layer_1_delta = layer_1_error * sigmoid_output_to_derivative(layer_1)\n",
    "    synapse_0_derivative = np.dot(layer_0.T, layer_1_delta)\n",
    "    \n",
    "    synapse_0 -= synapse_0_derivative\n",
    "\n",
    "print(\"Output After Training:\\n\", layer_1)"
   ]
  },
  {
   "cell_type": "markdown",
   "metadata": {},
   "source": [
    "### Adding in Alpha Parameter"
   ]
  },
  {
   "cell_type": "code",
   "execution_count": 14,
   "metadata": {
    "collapsed": true
   },
   "outputs": [],
   "source": [
    "alphas = [0.001, 0.01, 0.1, 1, 10, 100, 1000]"
   ]
  },
  {
   "cell_type": "code",
   "execution_count": 15,
   "metadata": {
    "collapsed": true
   },
   "outputs": [],
   "source": [
    "x = np.array([[0, 0, 1],\n",
    "              [0, 1, 1],\n",
    "              [1, 0, 1],\n",
    "              [1, 1, 1]])"
   ]
  },
  {
   "cell_type": "code",
   "execution_count": 16,
   "metadata": {
    "collapsed": true
   },
   "outputs": [],
   "source": [
    "y = np.array([[0, 1, 1, 0]]).T"
   ]
  },
  {
   "cell_type": "code",
   "execution_count": 17,
   "metadata": {
    "collapsed": false
   },
   "outputs": [
    {
     "name": "stdout",
     "output_type": "stream",
     "text": [
      "\n",
      "Training with Alpha:0.001\n",
      "Error after 0 Iterations: 0.496410031903\n",
      "Error after 10000 Iterations: 0.495164025493\n",
      "Error after 20000 Iterations: 0.493596043188\n",
      "Error after 30000 Iterations: 0.491606358559\n",
      "Error after 40000 Iterations: 0.489100166544\n",
      "Error after 50000 Iterations: 0.485977857846\n",
      "\n",
      "Training with Alpha:0.01\n",
      "Error after 0 Iterations: 0.496410031903\n",
      "Error after 10000 Iterations: 0.457431074442\n",
      "Error after 20000 Iterations: 0.359097202563\n",
      "Error after 30000 Iterations: 0.239358137159\n",
      "Error after 40000 Iterations: 0.143070659013\n",
      "Error after 50000 Iterations: 0.0985964298089\n",
      "\n",
      "Training with Alpha:0.1\n",
      "Error after 0 Iterations: 0.496410031903\n",
      "Error after 10000 Iterations: 0.0428880170001\n",
      "Error after 20000 Iterations: 0.0240989942285\n",
      "Error after 30000 Iterations: 0.0181106521468\n",
      "Error after 40000 Iterations: 0.0149876162722\n",
      "Error after 50000 Iterations: 0.0130144905381\n",
      "\n",
      "Training with Alpha:1\n",
      "Error after 0 Iterations: 0.496410031903\n",
      "Error after 10000 Iterations: 0.00858452565325\n",
      "Error after 20000 Iterations: 0.00578945986251\n",
      "Error after 30000 Iterations: 0.00462917677677\n",
      "Error after 40000 Iterations: 0.00395876528027\n",
      "Error after 50000 Iterations: 0.00351012256786\n",
      "\n",
      "Training with Alpha:10\n",
      "Error after 0 Iterations: 0.496410031903\n",
      "Error after 10000 Iterations: 0.00312938876301\n",
      "Error after 20000 Iterations: 0.00214459557985\n",
      "Error after 30000 Iterations: 0.00172397549956\n",
      "Error after 40000 Iterations: 0.00147821451229\n",
      "Error after 50000 Iterations: 0.00131274062834\n",
      "\n",
      "Training with Alpha:100\n",
      "Error after 0 Iterations: 0.496410031903\n",
      "Error after 10000 Iterations: 0.125476983855\n",
      "Error after 20000 Iterations: 0.125330333528\n",
      "Error after 30000 Iterations: 0.125267728765\n",
      "Error after 40000 Iterations: 0.12523107366\n",
      "Error after 50000 Iterations: 0.125206352756\n",
      "\n",
      "Training with Alpha:1000\n",
      "Error after 0 Iterations: 0.496410031903\n",
      "Error after 10000 Iterations: 0.5\n",
      "Error after 20000 Iterations: 0.5\n",
      "Error after 30000 Iterations: 0.5\n",
      "Error after 40000 Iterations: 0.5\n",
      "Error after 50000 Iterations: 0.5\n"
     ]
    }
   ],
   "source": [
    "for alpha in alphas:\n",
    "    print(\"\\nTraining with Alpha:\" + str(alpha))\n",
    "    np.random.seed(1)\n",
    "    \n",
    "    synapse_0 = 2 * np.random.random((3, 4)) - 1\n",
    "    synapse_1 = 2 * np.random.random((4, 1)) - 1\n",
    "    \n",
    "    for iteration in range(60000):\n",
    "        layer_0 = x\n",
    "        layer_1 = sigmoid(np.dot(layer_0, synapse_0))\n",
    "        layer_2 = sigmoid(np.dot(layer_1, synapse_1))\n",
    "        \n",
    "        layer_2_error = layer_2 - y\n",
    "        \n",
    "        if iteration % 10000 == 0:\n",
    "            print(\"Error after \" +str(iteration) + \" Iterations: \" + str(np.mean(abs(layer_2_error))))\n",
    "        \n",
    "        layer_2_delta = layer_2_error * sigmoid_output_to_derivative(layer_2)\n",
    "        layer_1_error = layer_2_delta.dot(synapse_1.T)\n",
    "        layer_1_delta = layer_1_error * sigmoid_output_to_derivative(layer_1)\n",
    "        \n",
    "        synapse_1 -= alpha * (layer_1.T.dot(layer_2_delta))\n",
    "        synapse_0 -= alpha * (layer_0.T.dot(layer_1_delta))"
   ]
  },
  {
   "cell_type": "markdown",
   "metadata": {},
   "source": [
    "### Taking a closer look"
   ]
  },
  {
   "cell_type": "code",
   "execution_count": 18,
   "metadata": {
    "collapsed": true
   },
   "outputs": [],
   "source": [
    "x = np.array([[0, 0, 1],\n",
    "              [0, 1, 1],\n",
    "              [1, 0, 1],\n",
    "              [1, 1, 1]])"
   ]
  },
  {
   "cell_type": "code",
   "execution_count": 19,
   "metadata": {
    "collapsed": true
   },
   "outputs": [],
   "source": [
    "y = np.array([[0, 1, 1, 0]]).T"
   ]
  },
  {
   "cell_type": "code",
   "execution_count": 20,
   "metadata": {
    "collapsed": false,
    "scrolled": false
   },
   "outputs": [
    {
     "name": "stdout",
     "output_type": "stream",
     "text": [
      "\n",
      "Training With Alpha: 0.001\n",
      "Error:  0.496410031903\n",
      "Error:  0.495164164289\n",
      "Error:  0.49359621952\n",
      "Error:  0.491606581738\n",
      "Error:  0.489100446253\n",
      "Error:  0.485978204375\n",
      "Synapse 0\n",
      " [[-0.28448238  0.32471257 -1.53494865 -0.47594636]\n",
      " [-0.75506073 -1.04592547 -1.45444408 -0.32606706]\n",
      " [-0.25948114 -0.13486732 -0.29722799  0.40027967]]\n",
      "\n",
      "Synapse 0 Update Direction Changes\n",
      " [[ 0.  0.  0.  0.]\n",
      " [ 0.  0.  0.  0.]\n",
      " [ 2.  0.  1.  1.]]\n",
      "\n",
      "Synapse 1\n",
      " [[-0.61957565]\n",
      " [ 0.76414455]\n",
      " [-1.49795548]\n",
      " [ 0.40734334]]\n",
      "\n",
      "Synapse 1 Update Direction Changes\n",
      " [[ 1.]\n",
      " [ 1.]\n",
      " [ 0.]\n",
      " [ 1.]]\n",
      "\n",
      "Training With Alpha: 0.01\n",
      "Error:  0.496410031903\n",
      "Error:  0.45743930478\n",
      "Error:  0.35910650918\n",
      "Error:  0.239371438432\n",
      "Error:  0.143077036967\n",
      "Error:  0.0985994627601\n",
      "Synapse 0\n",
      " [[ 2.39223796  2.56883735 -5.38288338 -3.29230775]\n",
      " [-0.35378185 -4.65092336 -5.67004639 -1.74285893]\n",
      " [-0.15431604 -1.17146816  1.97978616  3.44630778]]\n",
      "\n",
      "Synapse 0 Update Direction Changes\n",
      " [[ 1.  1.  0.  0.]\n",
      " [ 2.  0.  0.  2.]\n",
      " [ 5.  2.  1.  1.]]\n",
      "\n",
      "Synapse 1\n",
      " [[-3.70042226]\n",
      " [ 4.57576368]\n",
      " [-7.63359708]\n",
      " [ 4.73785155]]\n",
      "\n",
      "Synapse 1 Update Direction Changes\n",
      " [[ 2.]\n",
      " [ 1.]\n",
      " [ 0.]\n",
      " [ 1.]]\n",
      "\n",
      "Training With Alpha: 0.1\n",
      "Error:  0.496410031903\n",
      "Error:  0.0428921202111\n",
      "Error:  0.024099884847\n",
      "Error:  0.018111059443\n",
      "Error:  0.0149878570862\n",
      "Error:  0.0130146527451\n",
      "Synapse 0\n",
      " [[ 3.88034816  3.63912174 -5.99508835 -3.82242375]\n",
      " [-1.72461834 -5.41496061 -6.30737021 -3.03987203]\n",
      " [ 0.45953535 -1.77301166  2.3723585   5.04309136]]\n",
      "\n",
      "Synapse 0 Update Direction Changes\n",
      " [[ 1.  1.  0.  0.]\n",
      " [ 2.  0.  0.  2.]\n",
      " [ 5.  2.  1.  1.]]\n",
      "\n",
      "Synapse 1\n",
      " [[-5.72385398]\n",
      " [ 6.15040546]\n",
      " [-9.40271313]\n",
      " [ 6.61460046]]\n",
      "\n",
      "Synapse 1 Update Direction Changes\n",
      " [[ 2.]\n",
      " [ 1.]\n",
      " [ 0.]\n",
      " [ 1.]]\n",
      "\n",
      "Training With Alpha: 1\n",
      "Error:  0.496410031903\n",
      "Error:  0.0085850250975\n",
      "Error:  0.00578962106435\n",
      "Error:  0.00462926115218\n",
      "Error:  0.0039588188244\n",
      "Error:  0.0035101602766\n",
      "Synapse 0\n",
      " [[ 4.60135261  4.17196857 -6.30956046 -4.19744868]\n",
      " [-2.58412919 -5.81447674 -6.60793255 -3.68395709]\n",
      " [ 0.97538328 -2.02685617  2.52949653  5.84371224]]\n",
      "\n",
      "Synapse 0 Update Direction Changes\n",
      " [[ 1.  1.  0.  0.]\n",
      " [ 2.  0.  0.  2.]\n",
      " [ 5.  2.  1.  1.]]\n",
      "\n",
      "Synapse 1\n",
      " [[ -6.96764915]\n",
      " [  7.1410127 ]\n",
      " [-10.31916793]\n",
      " [  7.86127548]]\n",
      "\n",
      "Synapse 1 Update Direction Changes\n",
      " [[ 2.]\n",
      " [ 1.]\n",
      " [ 0.]\n",
      " [ 1.]]\n",
      "\n",
      "Training With Alpha: 10\n",
      "Error:  0.496410031903\n",
      "Error:  0.0031295607978\n",
      "Error:  0.00214465357318\n",
      "Error:  0.00172400631024\n",
      "Error:  0.00147823421438\n",
      "Error:  0.00131275456864\n",
      "Synapse 0\n",
      " [[ 4.52597338  5.77662914 -7.34266332 -5.29379679]\n",
      " [ 1.66714926 -7.16447134 -7.99778881 -1.81881507]\n",
      " [-4.27032302 -3.3583801   3.44593809  4.88851707]]\n",
      "\n",
      "Synapse 0 Update Direction Changes\n",
      " [[  7.  19.   2.   6.]\n",
      " [  7.   2.   0.  22.]\n",
      " [ 20.  26.   9.  17.]]\n",
      "\n",
      "Synapse 1\n",
      " [[ -8.58484798]\n",
      " [ 10.17862565]\n",
      " [-14.87600394]\n",
      " [  7.57025433]]\n",
      "\n",
      "Synapse 1 Update Direction Changes\n",
      " [[ 22.]\n",
      " [ 15.]\n",
      " [  4.]\n",
      " [ 15.]]\n",
      "\n",
      "Training With Alpha: 100\n",
      "Error:  0.496410031903\n",
      "Error:  0.125477009572\n",
      "Error:  0.125330342153\n",
      "Error:  0.125267733356\n",
      "Error:  0.125231076602\n",
      "Error:  0.12520635484\n",
      "Synapse 0\n",
      " [[-17.20513518   1.89881396 -16.95533156  -8.23482697]\n",
      " [  5.70240616 -17.23783306  -9.48052548  -7.92972576]\n",
      " [ -4.18781747  -0.3388184    2.82024783  -8.40059859]]\n",
      "\n",
      "Synapse 0 Update Direction Changes\n",
      " [[  8.   7.   3.   2.]\n",
      " [ 13.   8.   2.   4.]\n",
      " [ 17.  13.  12.   8.]]\n",
      "\n",
      "Synapse 1\n",
      " [[  9.68284473]\n",
      " [  9.55730971]\n",
      " [-16.03907019]\n",
      " [  6.27326973]]\n",
      "\n",
      "Synapse 1 Update Direction Changes\n",
      " [[ 13.]\n",
      " [ 11.]\n",
      " [ 12.]\n",
      " [ 10.]]\n",
      "\n",
      "Training With Alpha: 1000\n",
      "Error:  0.496410031903\n",
      "Error:  0.5\n",
      "Error:  0.5\n",
      "Error:  0.5\n",
      "Error:  0.5\n",
      "Error:  0.5\n",
      "Synapse 0\n",
      " [[-56.06177241  -4.66409623  -5.65196179 -23.05868769]\n",
      " [ -4.52271708  -4.78184499 -10.88770202 -15.85879101]\n",
      " [-89.56678495  10.81119741  37.02351518 -48.33299795]]\n",
      "\n",
      "Synapse 0 Update Direction Changes\n",
      " [[ 3.  2.  4.  1.]\n",
      " [ 1.  2.  2.  1.]\n",
      " [ 7.  6.  4.  1.]]\n",
      "\n",
      "Synapse 1\n",
      " [[  25.16188889]\n",
      " [  -8.68235535]\n",
      " [-116.60053379]\n",
      " [  11.41582458]]\n",
      "\n",
      "Synapse 1 Update Direction Changes\n",
      " [[ 7.]\n",
      " [ 7.]\n",
      " [ 7.]\n",
      " [ 3.]]\n"
     ]
    }
   ],
   "source": [
    "for alpha in alphas:\n",
    "    print(\"\\nTraining With Alpha: \" +str(alpha))\n",
    "    np.random.seed(1)\n",
    "    \n",
    "    synapse_0 = 2 * np.random.random((3, 4)) - 1\n",
    "    synapse_1 = 2 * np.random.random((4, 1)) - 1\n",
    "    \n",
    "    prev_synapse_0_weight_update = np.zeros_like(synapse_0)\n",
    "    prev_synapse_1_weight_update = np.zeros_like(synapse_1)\n",
    "    \n",
    "    synapse_0_direction_count = np.zeros_like(synapse_0)\n",
    "    synapse_1_direction_count = np.zeros_like(synapse_1)\n",
    "    \n",
    "    for iteration in range(60000):\n",
    "        layer_0 = x\n",
    "        layer_1 = sigmoid(np.dot(layer_0, synapse_0))\n",
    "        layer_2 = sigmoid(np.dot(layer_1, synapse_1))\n",
    "        \n",
    "        layer_2_error = y - layer_2\n",
    "        \n",
    "        if iteration % 10000 == 0:\n",
    "            print(\"Error: \", str(np.mean(abs(layer_2_error))))\n",
    "        \n",
    "        layer_2_delta = layer_2_error * sigmoid_output_to_derivative(layer_2)\n",
    "        layer_1_error = layer_2_delta.dot(synapse_1.T)\n",
    "        layer_1_delta = layer_1_error * sigmoid_output_to_derivative(layer_1)\n",
    "        \n",
    "        synapse_1_weight_update = (layer_1.T.dot(layer_2_delta))\n",
    "        synapse_0_weight_update = (layer_0.T.dot(layer_1_delta))\n",
    "        \n",
    "        if iteration > 0:\n",
    "            synapse_0_direction_count += abs(((synapse_0_weight_update > 0) + 0) - ((prev_synapse_0_weight_update > 0) + 0))\n",
    "            synapse_1_direction_count += abs(((synapse_1_weight_update > 0) + 0) - ((prev_synapse_1_weight_update > 0) + 0))\n",
    "            \n",
    "            synapse_1 += alpha * synapse_1_weight_update\n",
    "            synapse_0 += alpha * synapse_0_weight_update\n",
    "            \n",
    "            prev_synapse_0_weight_update = synapse_0_weight_update\n",
    "            prev_synapse_1_weight_update = synapse_1_weight_update\n",
    "            \n",
    "    print(\"Synapse 0\\n\", synapse_0)\n",
    "    print(\"\\nSynapse 0 Update Direction Changes\\n\", synapse_0_direction_count)\n",
    "    print(\"\\nSynapse 1\\n\", synapse_1)\n",
    "    print(\"\\nSynapse 1 Update Direction Changes\\n\", synapse_1_direction_count)"
   ]
  }
 ],
 "metadata": {
  "kernelspec": {
   "display_name": "Python 3",
   "language": "python",
   "name": "python3"
  },
  "language_info": {
   "codemirror_mode": {
    "name": "ipython",
    "version": 3
   },
   "file_extension": ".py",
   "mimetype": "text/x-python",
   "name": "python",
   "nbconvert_exporter": "python",
   "pygments_lexer": "ipython3",
   "version": "3.5.0"
  }
 },
 "nbformat": 4,
 "nbformat_minor": 0
}
