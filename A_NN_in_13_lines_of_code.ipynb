{
 "cells": [
  {
   "cell_type": "markdown",
   "metadata": {},
   "source": [
    "https://iamtrask.github.io/2015/07/27/python-network-part2/"
   ]
  },
  {
   "cell_type": "code",
   "execution_count": 1,
   "metadata": {
    "collapsed": true
   },
   "outputs": [],
   "source": [
    "import numpy as np"
   ]
  },
  {
   "cell_type": "code",
   "execution_count": 2,
   "metadata": {
    "collapsed": true
   },
   "outputs": [],
   "source": [
    "x = np.array([[0, 0, 1], [0, 1, 1], [1, 0, 1], [1, 1, 1]])"
   ]
  },
  {
   "cell_type": "code",
   "execution_count": 3,
   "metadata": {
    "collapsed": false
   },
   "outputs": [],
   "source": [
    "y = np.array([[0, 1, 1, 0]]).T"
   ]
  },
  {
   "cell_type": "code",
   "execution_count": 4,
   "metadata": {
    "collapsed": true
   },
   "outputs": [],
   "source": [
    "alpha, hidden_dim = (0.5, 50)"
   ]
  },
  {
   "cell_type": "code",
   "execution_count": 5,
   "metadata": {
    "collapsed": true
   },
   "outputs": [],
   "source": [
    "synapse_0 = 2 * np.random.random((3, hidden_dim)) - 1\n",
    "synapse_1 = 2 * np.random.random((hidden_dim, 1)) - 1"
   ]
  },
  {
   "cell_type": "code",
   "execution_count": 6,
   "metadata": {
    "collapsed": false
   },
   "outputs": [
    {
     "name": "stdout",
     "output_type": "stream",
     "text": [
      "[[ 0.08572296]\n",
      " [ 0.91197162]\n",
      " [ 0.91380373]\n",
      " [ 0.0883463 ]]\n"
     ]
    }
   ],
   "source": [
    "for j in range(60000):\n",
    "    layer_1 = 1/(1+np.exp(-(np.dot(x, synapse_0))))\n",
    "    layer_2 = 1/(1+np.exp(-(np.dot(layer_1, synapse_1))))\n",
    "    \n",
    "    layer_2_delta = (layer_2 - y) * (layer_2 * (1 - layer_2))\n",
    "    layer_1_delta = layer_2_delta.dot(synapse_1.T) * (layer_1 * 1-layer_1)\n",
    "    \n",
    "    synapse_1 -= (alpha * layer_1.T.dot(layer_2_delta))\n",
    "    synapse_0 -= (alpha * x.T.dot(layer_1_delta))\n",
    "print(layer_2)"
   ]
  },
  {
   "cell_type": "markdown",
   "metadata": {},
   "source": [
    "Changing the hidden dimension increases accuracy, to a point"
   ]
  },
  {
   "cell_type": "markdown",
   "metadata": {
    "collapsed": true
   },
   "source": [
    "### Layer Neural Networks"
   ]
  },
  {
   "cell_type": "code",
   "execution_count": 7,
   "metadata": {
    "collapsed": true
   },
   "outputs": [],
   "source": [
    "def sigmoid(x):\n",
    "    return 1/(1+np.exp(-x))"
   ]
  },
  {
   "cell_type": "code",
   "execution_count": 8,
   "metadata": {
    "collapsed": true
   },
   "outputs": [],
   "source": [
    "def sigmoid_output_to_derivative(output):\n",
    "    return output*(1-output)"
   ]
  },
  {
   "cell_type": "code",
   "execution_count": 9,
   "metadata": {
    "collapsed": true
   },
   "outputs": [],
   "source": [
    "x = np.array([[0, 1],\n",
    "              [0, 1],\n",
    "              [1, 0],\n",
    "              [1, 0]])"
   ]
  },
  {
   "cell_type": "code",
   "execution_count": 10,
   "metadata": {
    "collapsed": true
   },
   "outputs": [],
   "source": [
    "y = np.array([[0, 0, 1, 1]]).T"
   ]
  },
  {
   "cell_type": "code",
   "execution_count": 11,
   "metadata": {
    "collapsed": true
   },
   "outputs": [],
   "source": [
    "np.random.seed(1)"
   ]
  },
  {
   "cell_type": "code",
   "execution_count": 12,
   "metadata": {
    "collapsed": true
   },
   "outputs": [],
   "source": [
    "synapse_0 = 2*np.random.random((2, 1)) - 1"
   ]
  },
  {
   "cell_type": "code",
   "execution_count": 13,
   "metadata": {
    "collapsed": false
   },
   "outputs": [
    {
     "name": "stdout",
     "output_type": "stream",
     "text": [
      "Output After Training:\n",
      " [[ 0.00505119]\n",
      " [ 0.00505119]\n",
      " [ 0.99494905]\n",
      " [ 0.99494905]]\n"
     ]
    }
   ],
   "source": [
    "for iteration in range(10000):\n",
    "    layer_0 = x\n",
    "    layer_1 = sigmoid(np.dot(layer_0, synapse_0))\n",
    "    \n",
    "    layer_1_error = layer_1 - y\n",
    "    \n",
    "    layer_1_delta = layer_1_error * sigmoid_output_to_derivative(layer_1)\n",
    "    synapse_0_derivative = np.dot(layer_0.T, layer_1_delta)\n",
    "    \n",
    "    synapse_0 -= synapse_0_derivative\n",
    "\n",
    "print(\"Output After Training:\\n\", layer_1)"
   ]
  },
  {
   "cell_type": "markdown",
   "metadata": {},
   "source": [
    "### Adding in Alpha Parameter"
   ]
  },
  {
   "cell_type": "code",
   "execution_count": 14,
   "metadata": {
    "collapsed": true
   },
   "outputs": [],
   "source": [
    "alphas = [0.001, 0.01, 0.1, 1, 10, 100, 1000]"
   ]
  },
  {
   "cell_type": "code",
   "execution_count": 15,
   "metadata": {
    "collapsed": true
   },
   "outputs": [],
   "source": [
    "x = np.array([[0, 0, 1],\n",
    "              [0, 1, 1],\n",
    "              [1, 0, 1],\n",
    "              [1, 1, 1]])"
   ]
  },
  {
   "cell_type": "code",
   "execution_count": 16,
   "metadata": {
    "collapsed": true
   },
   "outputs": [],
   "source": [
    "y = np.array([[0, 1, 1, 0]]).T"
   ]
  },
  {
   "cell_type": "code",
   "execution_count": 17,
   "metadata": {
    "collapsed": false
   },
   "outputs": [
    {
     "name": "stdout",
     "output_type": "stream",
     "text": [
      "\n",
      "Training with Alpha:0.001\n",
      "Error after 0 Iterations: 0.496410031903\n",
      "Error after 10000 Iterations: 0.495164025493\n",
      "Error after 20000 Iterations: 0.493596043188\n",
      "Error after 30000 Iterations: 0.491606358559\n",
      "Error after 40000 Iterations: 0.489100166544\n",
      "Error after 50000 Iterations: 0.485977857846\n",
      "\n",
      "Training with Alpha:0.01\n",
      "Error after 0 Iterations: 0.496410031903\n",
      "Error after 10000 Iterations: 0.457431074442\n",
      "Error after 20000 Iterations: 0.359097202563\n",
      "Error after 30000 Iterations: 0.239358137159\n",
      "Error after 40000 Iterations: 0.143070659013\n",
      "Error after 50000 Iterations: 0.0985964298089\n",
      "\n",
      "Training with Alpha:0.1\n",
      "Error after 0 Iterations: 0.496410031903\n",
      "Error after 10000 Iterations: 0.0428880170001\n",
      "Error after 20000 Iterations: 0.0240989942285\n",
      "Error after 30000 Iterations: 0.0181106521468\n",
      "Error after 40000 Iterations: 0.0149876162722\n",
      "Error after 50000 Iterations: 0.0130144905381\n",
      "\n",
      "Training with Alpha:1\n",
      "Error after 0 Iterations: 0.496410031903\n",
      "Error after 10000 Iterations: 0.00858452565325\n",
      "Error after 20000 Iterations: 0.00578945986251\n",
      "Error after 30000 Iterations: 0.00462917677677\n",
      "Error after 40000 Iterations: 0.00395876528027\n",
      "Error after 50000 Iterations: 0.00351012256786\n",
      "\n",
      "Training with Alpha:10\n",
      "Error after 0 Iterations: 0.496410031903\n",
      "Error after 10000 Iterations: 0.00312938876301\n",
      "Error after 20000 Iterations: 0.00214459557985\n",
      "Error after 30000 Iterations: 0.00172397549956\n",
      "Error after 40000 Iterations: 0.00147821451229\n",
      "Error after 50000 Iterations: 0.00131274062834\n",
      "\n",
      "Training with Alpha:100\n",
      "Error after 0 Iterations: 0.496410031903\n",
      "Error after 10000 Iterations: 0.125476983855\n",
      "Error after 20000 Iterations: 0.125330333528\n",
      "Error after 30000 Iterations: 0.125267728765\n",
      "Error after 40000 Iterations: 0.12523107366\n",
      "Error after 50000 Iterations: 0.125206352756\n",
      "\n",
      "Training with Alpha:1000\n",
      "Error after 0 Iterations: 0.496410031903\n",
      "Error after 10000 Iterations: 0.5\n",
      "Error after 20000 Iterations: 0.5\n",
      "Error after 30000 Iterations: 0.5\n",
      "Error after 40000 Iterations: 0.5\n",
      "Error after 50000 Iterations: 0.5\n"
     ]
    }
   ],
   "source": [
    "for alpha in alphas:\n",
    "    print(\"\\nTraining with Alpha:\" + str(alpha))\n",
    "    np.random.seed(1)\n",
    "    \n",
    "    synapse_0 = 2 * np.random.random((3, 4)) - 1\n",
    "    synapse_1 = 2 * np.random.random((4, 1)) - 1\n",
    "    \n",
    "    for iteration in range(60000):\n",
    "        layer_0 = x\n",
    "        layer_1 = sigmoid(np.dot(layer_0, synapse_0))\n",
    "        layer_2 = sigmoid(np.dot(layer_1, synapse_1))\n",
    "        \n",
    "        layer_2_error = layer_2 - y\n",
    "        \n",
    "        if iteration % 10000 == 0:\n",
    "            print(\"Error after \" +str(iteration) + \" Iterations: \" + str(np.mean(np.abs(layer_2_error))))\n",
    "        \n",
    "        layer_2_delta = layer_2_error * sigmoid_output_to_derivative(layer_2)\n",
    "        layer_1_error = layer_2_delta.dot(synapse_1.T)\n",
    "        layer_1_delta = layer_1_error * sigmoid_output_to_derivative(layer_1)\n",
    "        \n",
    "        synapse_1 -= alpha * (layer_1.T.dot(layer_2_delta))\n",
    "        synapse_0 -= alpha * (layer_0.T.dot(layer_1_delta))"
   ]
  }
 ],
 "metadata": {
  "kernelspec": {
   "display_name": "Python 3",
   "language": "python",
   "name": "python3"
  },
  "language_info": {
   "codemirror_mode": {
    "name": "ipython",
    "version": 3
   },
   "file_extension": ".py",
   "mimetype": "text/x-python",
   "name": "python",
   "nbconvert_exporter": "python",
   "pygments_lexer": "ipython3",
   "version": "3.5.0"
  }
 },
 "nbformat": 4,
 "nbformat_minor": 0
}
