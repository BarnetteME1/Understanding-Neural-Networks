{
 "cells": [
  {
   "cell_type": "markdown",
   "metadata": {},
   "source": [
    "https://iamtrask.github.io/2016/02/25/deepminds-neural-stack-machine/\n",
    "This one is deep and is going to take some time to figure out the concept behind."
   ]
  },
  {
   "cell_type": "markdown",
   "metadata": {},
   "source": [
    "# A Regular Stack"
   ]
  },
  {
   "cell_type": "code",
   "execution_count": 9,
   "metadata": {
    "collapsed": false
   },
   "outputs": [],
   "source": [
    "class VerySimpleStack:\n",
    "    \n",
    "    def __init__(self):\n",
    "        self.contents = list()\n",
    "        \n",
    "    def push(self, string):\n",
    "        self.contents.append(string)\n",
    "    \n",
    "    def pop(self):\n",
    "        item = self.contents[-1]\n",
    "        self.contents = self.contents[:-1]\n",
    "        return item\n",
    "    \n",
    "    def pretty_print(self):\n",
    "        i = 1\n",
    "        print(\"\\n-------TOP-------\")\n",
    "        for item in (self.contents):\n",
    "            if i != 1:\n",
    "                print('-----------------')\n",
    "            print(self.contents[-i])\n",
    "            i += 1\n",
    "    \n",
    "        print('-----------------')\n",
    "        print('-----(table)-----')\n",
    "        print('-----------------')\n",
    "        print('-- --       -- --')\n",
    "        print('-- --       -- --')\n",
    "        print('-- --       -- --')\n",
    "        print('-- --       -- --')\n",
    "        print('--          --')\n",
    "        print('--          --\\n\\n')"
   ]
  },
  {
   "cell_type": "code",
   "execution_count": 8,
   "metadata": {
    "collapsed": false
   },
   "outputs": [
    {
     "name": "stdout",
     "output_type": "stream",
     "text": [
      "1) Creating an empty stack of books...\n",
      "2) Pushing two books onto our stack...\n",
      "3) Let's take a look at our stack...\n",
      "\n",
      "-------TOP-------\n",
      "Harry Potter and the Chamber of Secrets\n",
      "-----------------\n",
      "Harry Potter and the Philosopher's Stone\n",
      "-----------------\n",
      "-----(table)-----\n",
      "-----------------\n",
      "-- --       -- --\n",
      "-- --       -- --\n",
      "-- --       -- --\n",
      "-- --       -- --\n",
      "--          --\n",
      "--          --\n",
      "\n",
      "\n",
      "4) Let's Pop a few...\n",
      "\n",
      "POP: Harry Potter and the Chamber of Secrets\n",
      "POP: Harry Potter and the Philosopher's Stone\n",
      "\n",
      "5) Let's push a few more\n",
      "\n",
      "6) Let's look at our stack again...\n",
      "\n",
      "-------TOP-------\n",
      "Harry Potter and the Deathly Hallows\n",
      "-----------------\n",
      "Harry Potter and the Half-Blood Prince\n",
      "-----------------\n",
      "Harry Potter and the Order of the Phoenix\n",
      "-----------------\n",
      "Harry Potter and the Goblet of Fire\n",
      "-----------------\n",
      "Harry Potter and the Prisoner of Azkaban\n",
      "-----------------\n",
      "-----(table)-----\n",
      "-----------------\n",
      "-- --       -- --\n",
      "-- --       -- --\n",
      "-- --       -- --\n",
      "-- --       -- --\n",
      "--          --\n",
      "--          --\n",
      "\n",
      "\n"
     ]
    }
   ],
   "source": [
    "print(\"1) Creating an empty stack of books...\")\n",
    "stack = VerySimpleStack()\n",
    "\n",
    "print(\"2) Pushing two books onto our stack...\")\n",
    "stack.push(\"Harry Potter and the Philosopher's Stone\")\n",
    "stack.push(\"Harry Potter and the Chamber of Secrets\")\n",
    "\n",
    "print(\"3) Let's take a look at our stack...\")\n",
    "stack.pretty_print()\n",
    "\n",
    "print(\"4) Let's Pop a few...\\n\")\n",
    "print(\"POP: \" + stack.pop())\n",
    "print(\"POP: \" + stack.pop())\n",
    "\n",
    "print(\"\\n5) Let's push a few more\")\n",
    "\n",
    "stack.push(\"Harry Potter and the Prisoner of Azkaban\")\n",
    "stack.push(\"Harry Potter and the Goblet of Fire\")\n",
    "stack.push(\"Harry Potter and the Order of the Phoenix\")\n",
    "stack.push(\"Harry Potter and the Half-Blood Prince\")\n",
    "stack.push(\"Harry Potter and the Deathly Hallows\")\n",
    "\n",
    "print(\"\\n6) Let's look at our stack again...\")\n",
    "stack.pretty_print()"
   ]
  },
  {
   "cell_type": "code",
   "execution_count": 11,
   "metadata": {
    "collapsed": false,
    "scrolled": false
   },
   "outputs": [
    {
     "name": "stdout",
     "output_type": "stream",
     "text": [
      "1) Creating an empty stack of numbers...\n",
      "/n2) Create an ordered sequence...\n",
      "Sequence = [0, 1, 2, 3, 4, 5]\n",
      "\n",
      "3) Push sequence onto my stack\n",
      "\n",
      "-------TOP-------\n",
      "5\n",
      "-----------------\n",
      "4\n",
      "-----------------\n",
      "3\n",
      "-----------------\n",
      "2\n",
      "-----------------\n",
      "1\n",
      "-----------------\n",
      "0\n",
      "-----------------\n",
      "-----(table)-----\n",
      "-----------------\n",
      "-- --       -- --\n",
      "-- --       -- --\n",
      "-- --       -- --\n",
      "-- --       -- --\n",
      "--          --\n",
      "--          --\n",
      "\n",
      "\n"
     ]
    }
   ],
   "source": [
    "print(\"1) Creating an empty stack of numbers...\")\n",
    "stack = VerySimpleStack()\n",
    "\n",
    "print(\"/n2) Create an ordered sequence...\")\n",
    "sequence = [0, 1, 2, 3, 4, 5]\n",
    "print(\"Sequence = \" + str(sequence))\n",
    "\n",
    "print(\"\\n3) Push sequence onto my stack\")\n",
    "stack.push(sequence[0])\n",
    "stack.push(sequence[1])\n",
    "stack.push(sequence[2])\n",
    "stack.push(sequence[3])\n",
    "stack.push(sequence[4])\n",
    "stack.push(sequence[5])\n",
    "stack.pretty_print()"
   ]
  }
 ],
 "metadata": {
  "kernelspec": {
   "display_name": "Python 3",
   "language": "python",
   "name": "python3"
  },
  "language_info": {
   "codemirror_mode": {
    "name": "ipython",
    "version": 3
   },
   "file_extension": ".py",
   "mimetype": "text/x-python",
   "name": "python",
   "nbconvert_exporter": "python",
   "pygments_lexer": "ipython3",
   "version": "3.5.0"
  }
 },
 "nbformat": 4,
 "nbformat_minor": 0
}
