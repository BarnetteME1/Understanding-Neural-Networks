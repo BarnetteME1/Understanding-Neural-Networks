{
 "cells": [
  {
   "cell_type": "code",
   "execution_count": 13,
   "metadata": {
    "collapsed": false
   },
   "outputs": [],
   "source": [
    "import numpy as np\n",
    "from keras.models import Sequential\n",
    "from keras.layers import Merge\n",
    "from keras.layers.core import Dense, Activation, Dropout\n",
    "from "
   ]
  },
  {
   "cell_type": "code",
   "execution_count": 29,
   "metadata": {
    "collapsed": true
   },
   "outputs": [],
   "source": [
    "left_branch = Sequential()\n",
    "left_branch.add(Dense(32, input_dim=784))\n",
    "\n",
    "right_branch = Sequential()\n",
    "right_branch.add(Dense(32, input_dim=784))"
   ]
  },
  {
   "cell_type": "code",
   "execution_count": 30,
   "metadata": {
    "collapsed": true
   },
   "outputs": [],
   "source": [
    "merged = Merge([left_branch, right_branch], mode='concat')"
   ]
  },
  {
   "cell_type": "code",
   "execution_count": 32,
   "metadata": {
    "collapsed": false
   },
   "outputs": [],
   "source": [
    "model = Sequential()\n",
    "model.add(merged)\n",
    "model.add(Dense(10, activation='softmax'))"
   ]
  },
  {
   "cell_type": "code",
   "execution_count": 34,
   "metadata": {
    "collapsed": false
   },
   "outputs": [],
   "source": [
    "model.compile(optimizer='rmsprop',\n",
    "              loss='categorical_crossentropy',\n",
    "              metrics=['accuracy'])"
   ]
  },
  {
   "cell_type": "code",
   "execution_count": 18,
   "metadata": {
    "collapsed": true
   },
   "outputs": [],
   "source": [
    "data = np.random.random((1000, 784))\n",
    "labels = np.random.randint(2, size=(1000, 1))"
   ]
  },
  {
   "cell_type": "code",
   "execution_count": 21,
   "metadata": {
    "collapsed": false
   },
   "outputs": [
    {
     "name": "stdout",
     "output_type": "stream",
     "text": [
      "Epoch 1/10\n",
      "1000/1000 [==============================] - 0s - loss: 7.9234 - acc: 0.5030     \n",
      "Epoch 2/10\n",
      "1000/1000 [==============================] - 0s - loss: 7.9234 - acc: 0.5030     \n",
      "Epoch 3/10\n",
      "1000/1000 [==============================] - 0s - loss: 7.9234 - acc: 0.5030     \n",
      "Epoch 4/10\n",
      "1000/1000 [==============================] - 0s - loss: 7.9234 - acc: 0.5030     \n",
      "Epoch 5/10\n",
      "1000/1000 [==============================] - 0s - loss: 7.9234 - acc: 0.5030     \n",
      "Epoch 6/10\n",
      "1000/1000 [==============================] - 0s - loss: 7.9234 - acc: 0.5030     \n",
      "Epoch 7/10\n",
      "1000/1000 [==============================] - 0s - loss: 7.9234 - acc: 0.5030     \n",
      "Epoch 8/10\n",
      "1000/1000 [==============================] - 0s - loss: 7.9234 - acc: 0.5030     \n",
      "Epoch 9/10\n",
      "1000/1000 [==============================] - 0s - loss: 7.9234 - acc: 0.5030     \n",
      "Epoch 10/10\n",
      "1000/1000 [==============================] - 0s - loss: 7.9234 - acc: 0.5030     \n"
     ]
    },
    {
     "data": {
      "text/plain": [
       "<keras.callbacks.History at 0x111f48828>"
      ]
     },
     "execution_count": 21,
     "metadata": {},
     "output_type": "execute_result"
    }
   ],
   "source": [
    "model.fit(data, labels, nb_epoch=10, batch_size=32)"
   ]
  }
 ],
 "metadata": {
  "kernelspec": {
   "display_name": "Python 3",
   "language": "python",
   "name": "python3"
  },
  "language_info": {
   "codemirror_mode": {
    "name": "ipython",
    "version": 3
   },
   "file_extension": ".py",
   "mimetype": "text/x-python",
   "name": "python",
   "nbconvert_exporter": "python",
   "pygments_lexer": "ipython3",
   "version": "3.5.0"
  }
 },
 "nbformat": 4,
 "nbformat_minor": 0
}
